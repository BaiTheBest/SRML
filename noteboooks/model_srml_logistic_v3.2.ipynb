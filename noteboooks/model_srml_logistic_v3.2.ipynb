{
 "cells": [
  {
   "cell_type": "code",
   "execution_count": 1,
   "metadata": {},
   "outputs": [],
   "source": [
    "function [X_norm, mu, sigma] = featureNormalize(X)\n",
    "    mu = mean(X);\n",
    "    sigma = std(X);\n",
    "    sigma(sigma==0)=1;   \n",
    "    X_norm = [(X - mu) ./ sigma];\n",
    "end"
   ]
  },
  {
   "cell_type": "code",
   "execution_count": 2,
   "metadata": {},
   "outputs": [],
   "source": [
    "function [X_norm, mu, sigma] = featureNormalize2(X)\n",
    "    mu = mean(X);\n",
    "    sigma = std(X);\n",
    "    sigma(sigma==0)=1;   \n",
    "    ix_norm = sigma > 10;\n",
    "    X_norm = X;\n",
    "\n",
    "    if sum(ix_norm) > 0\n",
    "        X_norm(:,ix_norm) = [(X(:,ix_norm) - mu(ix_norm)) ./ sigma(ix_norm)];\n",
    "    end\n",
    "end"
   ]
  },
  {
   "cell_type": "code",
   "execution_count": 3,
   "metadata": {},
   "outputs": [],
   "source": [
    "function opts = init_opts_swmtl(opts)\n",
    "    if ~isfield(opts, 'rho')\n",
    "        opts.rho = 10;\n",
    "    end \n",
    "    \n",
    "    if ~isfield(opts, 'lambda')\n",
    "        opts.lambda = 5; \n",
    "    end\n",
    "    \n",
    "    if ~isfield(opts, 'c')\n",
    "        opts.c = 1; \n",
    "    end\n",
    "    \n",
    "    if ~isfield(opts, 'lr')\n",
    "        opts.lr = 10^-3;\n",
    "    end\n",
    "    \n",
    "    if ~isfield(opts, 'optimizer')\n",
    "        opts.optimizer = 3;\n",
    "    end\n",
    "    \n",
    "    if ~isfield(opts, 'max_iters')\n",
    "        opts.max_iters = 1000;\n",
    "    end\n",
    "    \n",
    "    if ~isfield(opts, 'tol')\n",
    "        opts.tol = 10^-4;\n",
    "    end\n",
    "    \n",
    "    if ~isfield(opts, 'scaling')\n",
    "        opts.scaling = 1; % 1 is Z normal scaling, 2 is min max scaling\n",
    "    end\n",
    "        \n",
    "    if ~isfield(opts, 'tflag')\n",
    "        opts.tflag = 1; % percentage change\n",
    "    end\n",
    "\n",
    "end"
   ]
  },
  {
   "cell_type": "code",
   "execution_count": 4,
   "metadata": {},
   "outputs": [],
   "source": [
    "function ut = updateU(X, Y, W, U, L, t, lambda, rho, c)\n",
    "    T = length(X);\n",
    "    xt = X{t};\n",
    "    yt = Y{t};\n",
    "    wt = W(:,t);\n",
    "    ut = U(:,t);\n",
    "    lt = L(:,t);\n",
    "    d = size(xt, 2);   \n",
    "    \n",
    "    if rho != 0\n",
    "    if t == 1 \n",
    "        utn = U(:,t+1);\n",
    "        slackGrad = ut .* utn;\n",
    "        ut(slackGrad >= 0) = wt(slackGrad >= 0) + 1/(rho) * lt(slackGrad >= 0);\n",
    "        ut(slackGrad < 0) = wt(slackGrad < 0) + 1/(rho) * ( c*utn(slackGrad < 0) + lt(slackGrad < 0) );\n",
    "    elseif t == T\n",
    "        utp = U(:,t-1);  \n",
    "        slackGrad = ut .* utp;\n",
    "        ut(slackGrad >= 0) = wt(slackGrad >= 0) + 1/(rho) * lt(slackGrad >= 0);\n",
    "        ut(slackGrad < 0) = wt(slackGrad < 0) + 1/(rho) * (c*utp(slackGrad < 0) + lt(slackGrad < 0) );    \n",
    "    else\n",
    "        utp = U(:,t-1);\n",
    "        utn = U(:,t+1);        \n",
    "        slackGrad1 = ut .* utn;\n",
    "        slackGrad2 = ut .* utp;\n",
    "        \n",
    "        ix = slackGrad1 >= 0 & slackGrad2 >= 0;\n",
    "        ut(ix) = wt(ix) + 1/(rho) * lt(ix) ;\n",
    "        \n",
    "        ix = slackGrad1 >= 0 & slackGrad2 < 0;\n",
    "        ut(ix) = wt(ix) + 1/(rho) * ( c*utp(ix) + lt(ix) );   \n",
    "        \n",
    "        ix = slackGrad1 < 0  & slackGrad2 >= 0;\n",
    "        ut(ix) = wt(ix) + 1/(rho) * ( c*utn(ix) + lt(ix) );\n",
    "        \n",
    "        ix = slackGrad1 < 0  & slackGrad2 < 0;\n",
    "        ut(ix) = wt(ix) + 1/(rho) * ( c*utp(ix) +  c*utn(ix) + lt(ix) );\n",
    "    end\n",
    "    end\n",
    "\n",
    "end"
   ]
  },
  {
   "cell_type": "code",
   "execution_count": 5,
   "metadata": {},
   "outputs": [],
   "source": [
    "function [h] = sigmoid(z)\n",
    "    h = 1./(1+ e.^-z);\n",
    "end"
   ]
  },
  {
   "cell_type": "code",
   "execution_count": 6,
   "metadata": {},
   "outputs": [],
   "source": [
    "function [J,grad] = computeGradients(X, Y, W, U, L, t, lambda, rho, c)\n",
    "    T = length(X);\n",
    "    xt = X{t};\n",
    "    yt = Y{t};\n",
    "    wt = W(:,t);\n",
    "    ut = U(:,t); \n",
    "    lt = L(:,t);\n",
    "    [m, d] = size(xt);\n",
    "        \n",
    "    yt_hat = xt*wt;\n",
    "    h = sigmoid(yt_hat);\n",
    "    smooth_cost = 1/(2*m) * (-yt' * log(max(h,eps)) - (1-yt)' * log(1-min(h,1-eps)));\n",
    "    reg_cost = lambda/(2*m) * sum(wt.^2);\n",
    "\n",
    "    if t == 1\n",
    "        utn = U(:,t+1);\n",
    "        slack = c * sum(max(0, - ut.*utn));\n",
    "    elseif t < T\n",
    "        utp = U(:,t-1);\n",
    "        utn = U(:,t+1);\n",
    "        slack = c * (sum(max(0, - ut.*utp)) + sum(max(0, - ut.*utn)));\n",
    "    else\n",
    "        utp = U(:,t-1);\n",
    "        slack = c * sum(max(0, - ut.*utp));\n",
    "    end\n",
    "    \n",
    "    J = smooth_cost + reg_cost + slack;    \n",
    "    \n",
    "    if rho!= 0 \n",
    "        lagrange_grad = rho*(wt-ut+ lt/rho);\n",
    "    else\n",
    "        lagrange_grad = 0;\n",
    "    end\n",
    "    \n",
    "    smooth_grad = (1/m)*xt' * (h - yt) + (1/m)*lambda*wt;\n",
    "    lagrange_grad = rho * (wt-ut) + lt;\n",
    "    grad = smooth_grad + lagrange_grad;\n",
    "    \n",
    "end"
   ]
  },
  {
   "cell_type": "code",
   "execution_count": 7,
   "metadata": {},
   "outputs": [],
   "source": [
    "function [wt, jt] = minimizeJ(X, Y, W, U, L, t, i,opts)\n",
    "    T = length(X);\n",
    "    xt = X{t};\n",
    "    yt = Y{t};\n",
    "    wt = W(:,t);\n",
    "    ut = U(:,t); \n",
    "    lt = L(:,t);\n",
    "    [m, d] = size(xt);\n",
    "\n",
    "    % momentum\n",
    "    mlr_V = ones(d,1);     \n",
    "    mlr_mu = 0.9;\n",
    "    mlr_alpha = opts.lr;\n",
    "    % accelerated gradient\n",
    "    nag_V = ones(d,1);\n",
    "    nag_mu = 0.9;\n",
    "    nag_alpha = opts.lr;\n",
    "    % adagrad\n",
    "    % rmsprop\n",
    "    rmsprop_gamma = 0.01;\n",
    "    rmsprop_r=wt;\n",
    "\n",
    "\n",
    "    for iter = 1:opts.max_iters\n",
    "%        fprintf('\\r iter: %d task: %d training iter: %d ',i, t, iter);\n",
    "    \n",
    "        if opts.optimizer == 3\n",
    "            nag_W = W + nag_mu * nag_V;\n",
    "            [cost, grad_W] = computeGradients(X, Y, nag_W, U, L, t,  opts.lambda, opts.rho, opts.c);\n",
    "        else\n",
    "            [cost, grad_W] = computeGradients(X, Y, W, U, L, t,  opts.lambda, opts.rho, opts.c);\n",
    "        end\n",
    "        \n",
    "        if opts.optimizer == 1 % GD\n",
    "            W(:, t) = W(:, t) - opts.lr * grad_W;\n",
    "        elseif opts.optimizer == 2 % momentum GD\n",
    "            mlr_V(:, t) = mlr_mu * mlr_V - mlr_alpha * grad_W;\n",
    "            W(:, t) = W(:, t) + mlr_V(:, t);\n",
    "        elseif opts.optimizer == 3 % NAG\n",
    "            nag_V(:, t) = nag_mu * nag_V - nag_alpha * grad_W;\n",
    "            W(:, t) = W(:, t) + nag_V(:, t);\n",
    "        elseif opts.optimizer == 4\n",
    "            adagrad_hist(iter,:) = grad_W;\n",
    "            adagrad_W = grad_W ./ sqrt(sum(adagrad_hist.^2))';\n",
    "            W(:, t) = W(:, t) - opts.lr * adagrad_W;\n",
    "        elseif opts.optimizer == 5 % rmsprop\n",
    "            %size(rmsprop_r), size(grad_W)\n",
    "            rmsprop_r = rmsprop_gamma*rmsprop_r + (1-rmsprop_gamma)*grad_W.^2;\n",
    "            W(:, t) = W(:, t) - opts.lr * grad_W./ sqrt(rmsprop_r);\n",
    "        end   \n",
    "            \n",
    "        J_history(iter) = cost;\n",
    "        \n",
    "        if iter >1 \n",
    "            prev_hist = J_history(iter-1);\n",
    "            curr_hist = J_history(iter);\n",
    "\n",
    "            if opts.tflag == 1\n",
    "                delta_hist(iter) = abs(prev_hist - curr_hist) ./ prev_hist;\n",
    "                if sum(delta_hist(end) > opts.tol) == 0\n",
    "                    break\n",
    "                end                                \n",
    "            elseif opts.tflag == 2\n",
    "                delta_hist(iter) = abs(prev_hist - curr_hist);                \n",
    "                if sum(delta_hist(end) > opts.tol) == 0\n",
    "                    break\n",
    "                end\n",
    "            else # 0 : not stop criteria\n",
    "                delta_hist(iter) = abs(prev_hist - curr_hist);\n",
    "            end\n",
    "        end\n",
    "    \n",
    "    end\n",
    "    \n",
    "    wt = W(:,t);\n",
    "    jt = J_history;\n",
    "    \n",
    "end"
   ]
  },
  {
   "cell_type": "code",
   "execution_count": 35,
   "metadata": {},
   "outputs": [],
   "source": [
    "function [W, J_hist, J_hist_all, primal_residual_val, dual_residual_val] = Least_SWMTL3(X, Y, opts)\n",
    "\n",
    "    % hyperparameters\n",
    "    opts = init_opts_swmtl(opts) ;  \n",
    "\n",
    "    % data variables\n",
    "    T = length(X);\n",
    "    d = size(X{1},2);   \n",
    "    \n",
    "    if opts.scaling\n",
    "        %d = d + 1;\n",
    "        d = d;\n",
    "    end\n",
    "    \n",
    "    % output variables\n",
    "    if isfield(opts, 'W0')\n",
    "        W = opts.W0;\n",
    "    else\n",
    "        W = rand(d,T);     \n",
    "    end\n",
    "\n",
    "    % internal variables\n",
    "    U = W;\n",
    "    L = W;\n",
    "\n",
    "    \n",
    "    % data normalization\n",
    "    if opts.scaling\n",
    "        disp('scaling data')\n",
    "        for t=1:T \n",
    "            if opts.scaling == 1\n",
    "                [X{t}, mu_X(:,t), sigma_X(:,t)] = featureNormalize(X{t});\n",
    "                %[Y{t}, mu_Y(:,t), sigma_Y(:,t)] = featureNormalize(Y{t});\n",
    "            elseif opts.scaling == 2\n",
    "                [X{t}, mu_X(:,t), sigma_X(:,t)] = featureNormalize2(X{t});\n",
    "                %[Y{t}, mu_Y(:,t), sigma_Y(:,t)] = featureNormalize2(Y{t});\n",
    "            end\n",
    "        end\n",
    "    end\n",
    "    \n",
    "    %init history\n",
    "    disp('initializing hist')\n",
    "    for t=1:T\n",
    "        J_hist{t} =[];\n",
    "    end\n",
    "        \n",
    "    \n",
    "    i = 1; % the iteration counter\n",
    "    while i <= opts.max_iters \n",
    "\n",
    "        U_previous = U;\n",
    "        \n",
    "        J_hist_all(i) = 0;\n",
    "        \n",
    "        for t = 1:T        \n",
    "            [wt, jt]=minimizeJ(X, Y, W, U, L, t,i, opts);            \n",
    "            W(:, t) = wt;\n",
    "            J_hist{t} = vertcat([J_hist{t}, jt]);            \n",
    "            last_cost= J_hist{t}(end);\n",
    "            J_hist_all(i) =J_hist_all(i) + last_cost;\n",
    "            \n",
    "            fprintf('\\r iter: %d task: %d cost: %d' ,i, t, last_cost);\n",
    "        end\n",
    "        \n",
    "        for t = 1:T\n",
    "            U(:,t) = updateU(X, Y, W, U, L, t, opts.lambda, opts.rho, opts.c);                                \n",
    "        end\n",
    "\n",
    "\n",
    "        primal_residual = W-U ;\n",
    "        dual_residual = -opts.rho * (U - U_previous);\n",
    "        primal_residual_val(i) = sqrt(sum(sum(primal_residual.^2)));\n",
    "        dual_residual_val(i) = sqrt(sum(sum(dual_residual.^2)));\n",
    "            \n",
    "        % stop criteria\n",
    "        if i >1 \n",
    "            prev_hist = J_hist_all(end-1);\n",
    "            curr_hist = J_hist_all(end);\n",
    "\n",
    "            if opts.tflag == 1\n",
    "                delta_hist = abs(prev_hist - curr_hist) ./ prev_hist;\n",
    "                if (delta_hist > opts.tol) == 0\n",
    "                    break\n",
    "                end                                \n",
    "            elseif opts.tflag == 2\n",
    "                delta_hist = abs(prev_hist - curr_hist);                \n",
    "                if (delta_hist > opts.tol) == 0\n",
    "                    break\n",
    "                end\n",
    "            else\n",
    "                delta_hist = abs(prev_hist - curr_hist);\n",
    "            end\n",
    "        end\n",
    "        \n",
    "        \n",
    "        L = L + opts.rho*(W-U);\n",
    "        i = i + 1;\n",
    "\n",
    "    end\n",
    "        \n",
    "    if opts.scaling == 1\n",
    "        W=[W./sigma_X];             \n",
    "    elseif opts.scaling == 2\n",
    "        ix_sigma = sigma_X > 10;\n",
    "        W(ix_sigma)=W(ix_sigma)./sigma_X(ix_sigma);              \n",
    "    end\n",
    "\n",
    "end"
   ]
  },
  {
   "cell_type": "code",
   "execution_count": 9,
   "metadata": {
    "scrolled": false
   },
   "outputs": [
    {
     "name": "stdout",
     "output_type": "stream",
     "text": [
      "04cars.mat\t\t\t\tsyntheticWMTLC8t5m100d2p0s0.mat\r\n",
      "20news.mat\t\t\t\tsyntheticWMTLR1.mat\r\n",
      "WebKB.mat\t\t\t\tsyntheticWMTLR2t20m100d20p0s0.mat\r\n",
      "china_air\t\t\t\tsyntheticWMTLR2t5m100d1p0s0.mat\r\n",
      "civil\t\t\t\t\tsyntheticWMTLR2t5m100d1p0s1.mat\r\n",
      "civilBrazil.mat\t\t\t\tsyntheticWMTLR2t5m100d1p1s0.mat\r\n",
      "civilColombia.mat\t\t\tsyntheticWMTLR3t20m100d20p0s0.mat\r\n",
      "civilMexico.mat\t\t\t\tsyntheticWMTLR3t5m100d1p0s0.mat\r\n",
      "civilParaguay.mat\t\t\tsyntheticWMTLR3t5m100d1p0s1.mat\r\n",
      "civilVenezuela.mat\t\t\tsyntheticWMTLR3t5m100d1p1s0.mat\r\n",
      "computerBuyers\t\t\t\tsyntheticWMTLR3t5m200d1p1s0.mat\r\n",
      "computerBuyers.mat\t\t\tsyntheticWMTLR4t20m100d25p0s0.mat\r\n",
      "crisisnlp.mat\t\t\t\tsyntheticWMTLR4t5m100d1p0s0.mat\r\n",
      "facebook.mat\t\t\t\tsyntheticWMTLR5t20m100d25p0s0.mat\r\n",
      "flu\t\t\t\t\tsyntheticWMTLR5t5m100d1p0s0.mat\r\n",
      "fluUS2012.mat\t\t\t\tsyntheticWMTLR6t20m100d25p1s0.mat\r\n",
      "isolet\t\t\t\t\tsyntheticWMTLR6t5m100d1p0s0.mat\r\n",
      "isolet.mat\t\t\t\tsyntheticWMTLR7t20m100d25p1s0.mat\r\n",
      "multilingual\t\t\t\tsyntheticWMTLR7t20m500d25p0s0.mat\r\n",
      "school.mat\t\t\t\tsyntheticWMTLR8t100m100d1000p0s0.mat\r\n",
      "sentiMD\t\t\t\t\tsyntheticWMTLR8t100m100d1000p1s0.mat\r\n",
      "syntheticR1.mat\t\t\t\tsyntheticWMTLR8t100m100d500p0s0.mat\r\n",
      "syntheticWMTLC1.mat\t\t\ttest_tmp_venezuela4Johnny.mat\r\n",
      "syntheticWMTLC7t20m100d25p1s0.mat\ttrafficSP.mat\r\n",
      "syntheticWMTLC7t20m100d30p1s0.mat\tunrest\r\n",
      "syntheticWMTLC7t5m100d2p1s0.mat\t\tunrestVenezuela.mat\r\n",
      "syntheticWMTLC8t5m100d25p0s0.mat\tunrestVenezuela2014.mat\r\n",
      "\n"
     ]
    }
   ],
   "source": [
    "!ls ../data"
   ]
  },
  {
   "cell_type": "markdown",
   "metadata": {},
   "source": [
    "# 1D dataset"
   ]
  },
  {
   "cell_type": "code",
   "execution_count": 10,
   "metadata": {},
   "outputs": [
    {
     "name": "stdout",
     "output_type": "stream",
     "text": [
      "T =  68\n",
      "Variables in the current scope:\n",
      "\n",
      "   Attr Name               Size                     Bytes  Class\n",
      "   ==== ====               ====                     =====  ===== \n",
      "        T                  1x1                          8  double\n",
      "        X                  1x68                  29497120  cell\n",
      "        Y                  1x68                    198560  cell\n",
      "        dataset_type       1x11                        11  char\n",
      "        num_features       1x1                          8  double\n",
      "        num_instances      1x1                          8  double\n",
      "        num_tasks          1x1                          8  double\n",
      "\n",
      "Total is 151 elements using 29695723 bytes\n",
      "\n"
     ]
    }
   ],
   "source": [
    "clear;\n",
    "load('../data/unrestVenezuela.mat');\n",
    "T = length(X)\n",
    "whos"
   ]
  },
  {
   "cell_type": "code",
   "execution_count": 11,
   "metadata": {},
   "outputs": [
    {
     "data": {
      "image/png": "[encoded data removed]",
      "text/plain": [
       "<IPython.core.display.Image object>"
      ]
     },
     "metadata": {},
     "output_type": "display_data"
    }
   ],
   "source": [
    "\n",
    "hold on;\n",
    "    \n",
    "for t=1:T\n",
    "    plot(X{t}(:,1), Y{t} , '.' )\n",
    "    %text(mean(X{t}(:,1)), mean(Y{t}), num2str(t), 'fontsize', 14)\n",
    "end\n",
    "\n"
   ]
  },
  {
   "cell_type": "markdown",
   "metadata": {},
   "source": [
    "## normalize data"
   ]
  },
  {
   "cell_type": "code",
   "execution_count": 12,
   "metadata": {
    "scrolled": false
   },
   "outputs": [
    {
     "name": "stdout",
     "output_type": "stream",
     "text": [
      "error: featureNormalize: operator -: nonconformant arguments (op1 is 365x1806, op2 is 1x1806)\r\n",
      "error: called from\r\n",
      "    featureNormalize at line 5 column 12\r\n"
     ]
    },
    {
     "data": {
      "image/png": "[encoded data removed]",
      "text/plain": [
       "<IPython.core.display.Image object>"
      ]
     },
     "metadata": {},
     "output_type": "display_data"
    }
   ],
   "source": [
    "hold on;\n",
    "\n",
    "for t=1:T\n",
    "    % normalize data\n",
    "    [X_norm{t}, muv, sigmav] = featureNormalize(X{t});\n",
    "    mu{t} = muv';\n",
    "    sigma{t}= sigmav';\n",
    "    [Y_norm{t}, y_muv, y_sigmav] = featureNormalize(Y{t});\n",
    "    y_mu{t}=y_muv';\n",
    "    y_sigma{t}=y_sigmav';\n",
    "    plot(X_norm{t}(:,1), Y_norm{t} , '.' )\n",
    "    #text(mean(X_norm{t}(:,1)), mean(y_norm{t}), num2str(t), 'fontsize', 14);\n",
    "end"
   ]
  },
  {
   "cell_type": "code",
   "execution_count": 64,
   "metadata": {
    "scrolled": false
   },
   "outputs": [
    {
     "name": "stdout",
     "output_type": "stream",
     "text": [
      "opts =\n",
      "\n",
      "  scalar structure containing the fields:\n",
      "\n",
      "    rho = 0\n",
      "    lambda =  0.010000\n",
      "    c = 0\n",
      "    lr =  0.10000\n",
      "    tol =  0.010000\n",
      "    scaling = 0\n",
      "    optimizer =  4\n",
      "    tflag =  1\n",
      "    max_iters =  100\n",
      "\n",
      "initializing hist\n",
      " iter: 8 task: 68 cost: 0.0622973"
     ]
    }
   ],
   "source": [
    "opts = struct('rho', 0, 'lambda', 0.01, 'c', 0, ...\n",
    "    'lr', 0.1, 'tol', 10^-2, 'scaling', 0, ...\n",
    "    'optimizer', 4, 'tflag', 1, 'max_iters', 100)\n",
    "    \n",
    "[w , obj_history, J_hist_all] = Least_SWMTL3(X, Y, opts);"
   ]
  },
  {
   "cell_type": "code",
   "execution_count": 65,
   "metadata": {},
   "outputs": [
    {
     "data": {
      "image/png": "[encoded data removed]",
      "text/plain": [
       "<IPython.core.display.Image object>"
      ]
     },
     "metadata": {},
     "output_type": "display_data"
    }
   ],
   "source": [
    "plot(J_hist_all)"
   ]
  },
  {
   "cell_type": "code",
   "execution_count": 66,
   "metadata": {},
   "outputs": [
    {
     "data": {
      "image/png": "[encoded data removed]",
      "text/plain": [
       "<IPython.core.display.Image object>"
      ]
     },
     "metadata": {},
     "output_type": "display_data"
    }
   ],
   "source": [
    "hold on;\n",
    "\n",
    "for t=1:T\n",
    "    %semilogy(pr(3:end), 'DisplayName', ['L' num2str(t)])\n",
    "    plot(obj_history{t}, 'DisplayName', ['L' num2str(t)])\n",
    "end\n",
    "\n",
    "%legend;\n",
    "% figure(1, 'position',[0,0,1000,500]);\n",
    "\n",
    "% subplot(1,2,1)\n",
    "% plot(pr)\n",
    "% subplot(1,2,2)\n",
    "% plot(dr)\n"
   ]
  },
  {
   "cell_type": "code",
   "execution_count": 67,
   "metadata": {},
   "outputs": [
    {
     "name": "stdout",
     "output_type": "stream",
     "text": [
      "error: 'W' undefined near line 1 column 23\r\n"
     ]
    }
   ],
   "source": [
    "\n",
    "[w(1:5,1:3), cell2mat(W)(1:5,1:3)]\n"
   ]
  },
  {
   "cell_type": "code",
   "execution_count": 68,
   "metadata": {
    "scrolled": false
   },
   "outputs": [],
   "source": [
    "% figure(1, 'position',[0,0,500,2500]);\n",
    "\n",
    "% for t=1:5\n",
    "%     subplot(T,1, t)\n",
    "%     scatter(X{t}(:,1), Y{t}, 'b' , 's')\n",
    "%     hold on\n",
    "%     m = size(X{t},1);\n",
    "%     %Y_hat{t} = X{t} * w(:, t);\n",
    "%     Y_hat{t} = X{t} * w_hat(:, t);\n",
    "%     %Y_hat{t} = [ones(m,1) X_norm{t}] * w(:, t);\n",
    "%     scatter(X{t}(:,1), Y_hat{t}, 'r')\n",
    "% end"
   ]
  },
  {
   "cell_type": "code",
   "execution_count": 75,
   "metadata": {},
   "outputs": [],
   "source": [
    "addpath('../src/utils/');\n",
    "addpath('../src/models/');"
   ]
  },
  {
   "cell_type": "code",
   "execution_count": 77,
   "metadata": {},
   "outputs": [
    {
     "name": "stdout",
     "output_type": "stream",
     "text": [
      "train_size =  0.80000\n",
      "random_state = reset\n"
     ]
    }
   ],
   "source": [
    "train_size=0.8\n",
    "random_state='reset'\n",
    "[X_train, Y_train, X_test, Y_test] = datasplit(X, Y, train_size, random_state);"
   ]
  },
  {
   "cell_type": "code",
   "execution_count": 78,
   "metadata": {},
   "outputs": [],
   "source": [
    "X_train=X;\n",
    "Y_train=Y;"
   ]
  },
  {
   "cell_type": "code",
   "execution_count": 102,
   "metadata": {},
   "outputs": [
    {
     "name": "stdout",
     "output_type": "stream",
     "text": [
      "opts =\n",
      "\n",
      "  scalar structure containing the fields:\n",
      "\n",
      "    rho =  1\n",
      "    lambda =  0.010000\n",
      "    c =  0.000010000\n",
      "    lr =  0.010000\n",
      "    tol =  0.0010000\n",
      "    scaling = 0\n",
      "    optimizer =  4\n",
      "    tflag =  1\n",
      "    max_iters =  100\n",
      "\n",
      "initializing hist\n",
      " iter: 100 task: 68 cost: 0.0483723"
     ]
    }
   ],
   "source": [
    "% scaling =  1\n",
    "%     tol =  0.0010000\n",
    "%     lr =  0.010000\n",
    "%     optimizer =  4\n",
    "%     max_iters =  100\n",
    "%     lambda =  0.00056234\n",
    "%     rho =  0.10000\n",
    "%     c =  0.000010000\n",
    "    \n",
    "opts = struct('rho', 1, 'lambda', 0.01, 'c', 0.00001, ...\n",
    "    'lr', 0.01, 'tol', 0.001, 'scaling', 0, ...\n",
    "    'optimizer',4, 'tflag',1, 'max_iters', 100)\n",
    "    \n",
    "[w , obj_history] = Least_SWMTL3(X, Y, opts);\n",
    "\n"
   ]
  },
  {
   "cell_type": "code",
   "execution_count": 101,
   "metadata": {},
   "outputs": [
    {
     "data": {
      "image/png": "[encoded data removed]",
      "text/plain": [
       "<IPython.core.display.Image object>"
      ]
     },
     "metadata": {},
     "output_type": "display_data"
    }
   ],
   "source": [
    "\n",
    "hold on;\n",
    "\n",
    "for t=1:T\n",
    "    %semilogy(pr(3:end), 'DisplayName', ['L' num2str(t)])\n",
    "    plot(obj_history{t}, 'DisplayName', ['L' num2str(t)])\n",
    "    %break\n",
    "end\n",
    "\n",
    "xlabel('Number of iterations');\n",
    "ylabel('Cost J');"
   ]
  },
  {
   "cell_type": "code",
   "execution_count": 85,
   "metadata": {},
   "outputs": [],
   "source": [
    "for i = 1: t\n",
    "    Y_hat{i} = round(sigmoid(X{i} * w(:,i)));    \n",
    "end"
   ]
  },
  {
   "cell_type": "code",
   "execution_count": 87,
   "metadata": {},
   "outputs": [],
   "source": [
    "test_data = load ('../data/unrestVenezuela2014.mat');\n",
    "X_test = test_data.X;\n",
    "Y_test = test_data.Y;"
   ]
  },
  {
   "cell_type": "code",
   "execution_count": 88,
   "metadata": {
    "scrolled": false
   },
   "outputs": [
    {
     "name": "stdout",
     "output_type": "stream",
     "text": [
      "t =  68\r\n",
      "AUC =  0.63259\r\n",
      "ACC =  0.88139\r\n",
      "MAP =  0.027228\r\n"
     ]
    }
   ],
   "source": [
    "[AUC, ACC, MAP]=mtclf_test_sigmoid(X_test,w,Y_test, opts)"
   ]
  },
  {
   "cell_type": "code",
   "execution_count": null,
   "metadata": {},
   "outputs": [],
   "source": []
  }
 ],
 "metadata": {
  "kernelspec": {
   "display_name": "Octave",
   "language": "octave",
   "name": "octave"
  },
  "language_info": {
   "file_extension": ".m",
   "help_links": [
    {
     "text": "GNU Octave",
     "url": "https://www.gnu.org/software/octave/support.html"
    },
    {
     "text": "Octave Kernel",
     "url": "https://github.com/Calysto/octave_kernel"
    },
    {
     "text": "MetaKernel Magics",
     "url": "https://metakernel.readthedocs.io/en/latest/source/README.html"
    }
   ],
   "mimetype": "text/x-octave",
   "name": "octave",
   "version": "5.2.0"
  }
 },
 "nbformat": 4,
 "nbformat_minor": 4
}
