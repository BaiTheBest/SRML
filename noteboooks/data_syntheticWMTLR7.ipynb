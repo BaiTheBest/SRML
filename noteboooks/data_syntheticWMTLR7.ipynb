{
 "cells": [
  {
   "cell_type": "code",
   "execution_count": 1,
   "metadata": {},
   "outputs": [],
   "source": [
    "function [X, Y, n] = syntheticWMTLR(t, m, d, p, s, alpha, alpha_w, fpath)\n",
    "%     d = 1 % dimensionality\n",
    "%     m = 100 % instances per task\n",
    "%     t = 5 % number of tasks\n",
    "    \n",
    "    n = 0 % total number of instances (calculated )\n",
    "    %alpha=1000 % max magnitude for tasks' features\n",
    "    %alpha_w=100 % magnitude for the weightss\n",
    "    \n",
    "    % polarity for the features\n",
    "    if p == 1 % enforce\n",
    "        polarity = randn(d, 1);\n",
    "        polarity = sign(polarity);\n",
    "        pfunc = @(W) abs(W) .* polarity;\n",
    "    else % random\n",
    "        pfunc = @(W) (W); \n",
    "    endif\n",
    "    \n",
    "    % magnitude\n",
    "    if s == 1 \n",
    "        % integers features\n",
    "        magnitudeFunc = @() randi(alpha) ;\n",
    "        xgen = @() randi([-5,5], m, d); \n",
    "        dataset_type = 'sparse'\n",
    "    else\n",
    "        % real features\n",
    "        magnitudeFunc = @() rand() * alpha ;\n",
    "        xgen = @() randn(m, d) * alpha ; \n",
    "        dataset_type = 'continuous'\n",
    "    endif\n",
    "    \n",
    "    % data generation\n",
    "    for i=1:t\n",
    "        X{i} = xgen() + magnitudeFunc();\n",
    "        \n",
    "        % weight noise\n",
    "        w_polarity_noise = rand(d,1); \n",
    "        w_polarity_noise(w_polarity_noise > 0.1) = 1;\n",
    "        w_polarity_noise(w_polarity_noise <= 0.1) = -1;\n",
    "        W{i} = pfunc(randn(d,1)*alpha_w) .* w_polarity_noise;        \n",
    "                    \n",
    "        noise{i} = randn(m, 1)*0.1;\n",
    "        Y{i} = X{i} * W{i} + noise{i};\n",
    "        n = n + m;\n",
    "    end\n",
    "    \n",
    "    \n",
    "    % save data\n",
    "    num_tasks = t;\n",
    "    num_features = d;\n",
    "    num_instances = n;\n",
    "    \n",
    "    save(\n",
    "        '-V7', \n",
    "        fpath, \n",
    "        'X', \n",
    "        'Y',\n",
    "        'W',\n",
    "        'noise',\n",
    "        'num_tasks', \n",
    "        'num_features',\n",
    "        'num_instances',\n",
    "        'dataset_type'\n",
    "    );\n",
    "end"
   ]
  },
  {
   "cell_type": "code",
   "execution_count": 4,
   "metadata": {},
   "outputs": [
    {
     "name": "stdout",
     "output_type": "stream",
     "text": [
      "alpha =  1\n",
      "fpath = ../data/syntheticWMTLR7t20m1000d1000p0s0.mat\n",
      "n = 0\n",
      "dataset_type = continuous\n"
     ]
    }
   ],
   "source": [
    "%t=5; m=200; d=1; p=1; s=0;\n",
    "%t=5; m=100; d=1; p=0; s=1;\n",
    "%t=5; m=100; d=1; p=0; s=0; alpha=10, alpha_w=10;\n",
    "%t=20; m=100; d=25; p=0; s=0;\n",
    "t=20; m=1000; d=1000; p=0; s=0; alpha=1, alpha_w=1000;\n",
    "fpath = '../data/syntheticWMTLR7';\n",
    "fpath = [fpath 't' num2str(t) ];\n",
    "fpath = [fpath 'm' num2str(m) ];\n",
    "fpath = [fpath 'd' num2str(d) ];\n",
    "fpath = [fpath 'p' num2str(p) ];\n",
    "fpath = [fpath 's' num2str(s) ];\n",
    "fpath = [fpath '.mat' ]\n",
    "[X, Y] = syntheticWMTLR(t, m, d, p, s, alpha, alpha_w, fpath);"
   ]
  },
  {
   "cell_type": "code",
   "execution_count": 17,
   "metadata": {
    "scrolled": true
   },
   "outputs": [
    {
     "name": "stdout",
     "output_type": "stream",
     "text": [
      "t =  20\n",
      "Variables in the current scope:\n",
      "\n",
      "   Attr Name               Size                     Bytes  Class\n",
      "   ==== ====               ====                     =====  ===== \n",
      "        W                  1x20                      4000  cell\n",
      "        X                  1x20                    400000  cell\n",
      "        Y                  1x20                     16000  cell\n",
      "        dataset_type       1x10                        10  char\n",
      "        noise              1x20                     16000  cell\n",
      "        num_features       1x1                          8  double\n",
      "        num_instances      1x1                          8  double\n",
      "        num_tasks          1x1                          8  double\n",
      "        t                  1x1                          8  double\n",
      "\n",
      "Total is 94 elements using 436042 bytes\n",
      "\n"
     ]
    }
   ],
   "source": [
    "clear;\n",
    "load ../data/syntheticWMTLR7t20m100d25p1s0.mat\n",
    "t=num_tasks\n",
    "whos\n"
   ]
  },
  {
   "cell_type": "code",
   "execution_count": 18,
   "metadata": {},
   "outputs": [
    {
     "name": "stdout",
     "output_type": "stream",
     "text": [
      "ans =\r\n",
      "\r\n",
      "     63.809\r\n",
      "   -685.262\r\n",
      "   -790.223\r\n",
      "   -810.645\r\n",
      "    -92.641\r\n",
      "  -1469.583\r\n",
      "    648.954\r\n",
      "  -1714.998\r\n",
      "  -1035.872\r\n",
      "   1029.120\r\n",
      "   -175.050\r\n",
      "   -864.415\r\n",
      "   -842.740\r\n",
      "  -1981.585\r\n",
      "   1275.949\r\n",
      "   -833.724\r\n",
      "   1688.512\r\n",
      "    963.747\r\n",
      "   -502.781\r\n",
      "    585.864\r\n",
      "   -415.636\r\n",
      "   1534.282\r\n",
      "    218.594\r\n",
      "   -507.977\r\n",
      "    712.534\r\n",
      "\r\n"
     ]
    }
   ],
   "source": [
    "W{2}"
   ]
  },
  {
   "cell_type": "code",
   "execution_count": 19,
   "metadata": {},
   "outputs": [
    {
     "name": "stdout",
     "output_type": "stream",
     "text": [
      "ans =\r\n",
      "\r\n",
      "     63.809\r\n",
      "   -685.262\r\n",
      "   -790.223\r\n",
      "   -810.645\r\n",
      "    -92.641\r\n",
      "  -1469.583\r\n",
      "    648.954\r\n",
      "  -1714.998\r\n",
      "  -1035.872\r\n",
      "   1029.120\r\n",
      "   -175.050\r\n",
      "   -864.415\r\n",
      "   -842.740\r\n",
      "  -1981.585\r\n",
      "   1275.949\r\n",
      "   -833.724\r\n",
      "   1688.512\r\n",
      "    963.747\r\n",
      "   -502.781\r\n",
      "    585.864\r\n",
      "   -415.636\r\n",
      "   1534.282\r\n",
      "    218.594\r\n",
      "   -507.977\r\n",
      "    712.534\r\n",
      "\r\n"
     ]
    }
   ],
   "source": [
    "w=cell2mat(W);\n",
    "w(:,2)"
   ]
  },
  {
   "cell_type": "code",
   "execution_count": 20,
   "metadata": {},
   "outputs": [
    {
     "data": {
      "image/png": "[encoded data removed]",
      "text/plain": [
       "<IPython.core.display.Image object>"
      ]
     },
     "metadata": {},
     "output_type": "display_data"
    }
   ],
   "source": [
    "%cmap = colormap ();\n",
    "colormap('cool');\n",
    "ws = sign(w);\n",
    "imagesc (ws);\n",
    "colorbar ();\n",
    "#imshow(W)"
   ]
  },
  {
   "cell_type": "code",
   "execution_count": 21,
   "metadata": {
    "scrolled": false
   },
   "outputs": [
    {
     "data": {
      "image/png": "[encoded data removed]",
      "text/plain": [
       "<IPython.core.display.Image object>"
      ]
     },
     "metadata": {},
     "output_type": "display_data"
    }
   ],
   "source": [
    "for i=1:t\n",
    "    scatter(X{i}(:,1), Y{i})\n",
    "    hold on\n",
    "end"
   ]
  },
  {
   "cell_type": "code",
   "execution_count": null,
   "metadata": {},
   "outputs": [],
   "source": []
  },
  {
   "cell_type": "code",
   "execution_count": null,
   "metadata": {},
   "outputs": [],
   "source": []
  }
 ],
 "metadata": {
  "kernelspec": {
   "display_name": "Octave",
   "language": "octave",
   "name": "octave"
  },
  "language_info": {
   "file_extension": ".m",
   "help_links": [
    {
     "text": "GNU Octave",
     "url": "https://www.gnu.org/software/octave/support.html"
    },
    {
     "text": "Octave Kernel",
     "url": "https://github.com/Calysto/octave_kernel"
    },
    {
     "text": "MetaKernel Magics",
     "url": "https://metakernel.readthedocs.io/en/latest/source/README.html"
    }
   ],
   "mimetype": "text/x-octave",
   "name": "octave",
   "version": "5.2.0"
  }
 },
 "nbformat": 4,
 "nbformat_minor": 4
}
