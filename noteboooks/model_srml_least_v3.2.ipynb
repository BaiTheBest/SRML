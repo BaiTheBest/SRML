{
 "cells": [
  {
   "cell_type": "code",
   "execution_count": 1,
   "source": [
    "function [X_norm, mu, sigma] = featureNormalize(X)\n",
    "    mu = mean(X);\n",
    "    sigma = std(X);\n",
    "    sigma(sigma==0)=1;   \n",
    "    X_norm = [(X - mu) ./ sigma];\n",
    "end"
   ],
   "outputs": [],
   "metadata": {}
  },
  {
   "cell_type": "code",
   "execution_count": 2,
   "source": [
    "function [X_norm, mu, sigma] = featureNormalize2(X)\n",
    "    mu = mean(X);\n",
    "    sigma = std(X);\n",
    "    sigma(sigma==0)=1;   \n",
    "    ix_norm = sigma > 10;\n",
    "    X_norm = X;\n",
    "\n",
    "    if sum(ix_norm) > 0\n",
    "        X_norm(:,ix_norm) = [(X(:,ix_norm) - mu(ix_norm)) ./ sigma(ix_norm)];\n",
    "    end\n",
    "end"
   ],
   "outputs": [],
   "metadata": {}
  },
  {
   "cell_type": "code",
   "execution_count": 3,
   "source": [
    "function opts = init_opts(opts)\n",
    "    if ~isfield(opts, 'rho')\n",
    "        opts.rho = 10;\n",
    "    end \n",
    "    \n",
    "    if ~isfield(opts, 'lambda')\n",
    "        opts.lambda = 5; \n",
    "    end\n",
    "    \n",
    "    if ~isfield(opts, 'c')\n",
    "        opts.c = 1; \n",
    "    end\n",
    "    \n",
    "    if ~isfield(opts, 'lr')\n",
    "        opts.lr = 10^-3;\n",
    "    end\n",
    "    \n",
    "    if ~isfield(opts, 'optimizer')\n",
    "        opts.optimizer = 3;\n",
    "    end\n",
    "    \n",
    "    if ~isfield(opts, 'max_iters')\n",
    "        opts.max_iters = 1000;\n",
    "    end\n",
    "    \n",
    "    if ~isfield(opts, 'tol')\n",
    "        opts.tol = 10^-4;\n",
    "    end\n",
    "    \n",
    "    if ~isfield(opts, 'scaling')\n",
    "        opts.scaling = 1; % 1 is Z normal scaling, 2 is min max scaling\n",
    "    end\n",
    "        \n",
    "    if ~isfield(opts, 'tflag')\n",
    "        opts.tflag = 1; % percentage change\n",
    "    end\n",
    "\n",
    "end"
   ],
   "outputs": [],
   "metadata": {}
  },
  {
   "cell_type": "code",
   "execution_count": 4,
   "source": [
    "function ut = updateU(X, Y, W, U, L, t, lambda, rho, c)\n",
    "    T = length(X);\n",
    "    xt = X{t};\n",
    "    yt = Y{t};\n",
    "    wt = W(:,t);\n",
    "    ut = U(:,t);\n",
    "    lt = L(:,t);\n",
    "    d = size(xt, 2);   \n",
    "    \n",
    "    if rho != 0\n",
    "    if t == 1 \n",
    "        utn = U(:,t+1);\n",
    "        slackGrad = ut .* utn;\n",
    "        ut(slackGrad >= 0) = wt(slackGrad >= 0) + 1/(rho) * lt(slackGrad >= 0);\n",
    "        ut(slackGrad < 0) = wt(slackGrad < 0) + 1/(rho) * ( c*utn(slackGrad < 0) + lt(slackGrad < 0) );\n",
    "    elseif t == T\n",
    "        utp = U(:,t-1);  \n",
    "        slackGrad = ut .* utp;\n",
    "        ut(slackGrad >= 0) = wt(slackGrad >= 0) + 1/(rho) * lt(slackGrad >= 0);\n",
    "        ut(slackGrad < 0) = wt(slackGrad < 0) + 1/(rho) * (c*utp(slackGrad < 0) + lt(slackGrad < 0) );    \n",
    "    else\n",
    "        utp = U(:,t-1);\n",
    "        utn = U(:,t+1);        \n",
    "        slackGrad1 = ut .* utn;\n",
    "        slackGrad2 = ut .* utp;\n",
    "        \n",
    "        ix = slackGrad1 >= 0 & slackGrad2 >= 0;\n",
    "        ut(ix) = wt(ix) + 1/(rho) * lt(ix) ;\n",
    "        \n",
    "        ix = slackGrad1 >= 0 & slackGrad2 < 0;\n",
    "        ut(ix) = wt(ix) + 1/(rho) * ( c*utp(ix) + lt(ix) );   \n",
    "        \n",
    "        ix = slackGrad1 < 0  & slackGrad2 >= 0;\n",
    "        ut(ix) = wt(ix) + 1/(rho) * ( c*utn(ix) + lt(ix) );\n",
    "        \n",
    "        ix = slackGrad1 < 0  & slackGrad2 < 0;\n",
    "        ut(ix) = wt(ix) + 1/(rho) * ( c*utp(ix) +  c*utn(ix) + lt(ix) );\n",
    "    end\n",
    "    end\n",
    "\n",
    "end"
   ],
   "outputs": [],
   "metadata": {}
  },
  {
   "cell_type": "code",
   "execution_count": 5,
   "source": [
    "function [J,grad] = computeGradients(X, Y, W, U, L, t, lambda, rho, c)\n",
    "    T = length(X);\n",
    "    xt = X{t};\n",
    "    yt = Y{t};\n",
    "    wt = W(:,t);\n",
    "    ut = U(:,t); \n",
    "    lt = L(:,t);\n",
    "    [m, d] = size(xt);\n",
    "    \n",
    "    yt_hat = xt*wt;\n",
    "    yt_error = yt_hat-yt;\n",
    "    least = 1/(2*m) * sum(yt_error.^2);\n",
    "    reg = lambda/(2*m) * sum(wt.^2);\n",
    "\n",
    "    if t == 1\n",
    "        utn = U(:,t+1);\n",
    "        slack = c * sum(max(0, - ut.*utn));\n",
    "    elseif t < T\n",
    "        utp = U(:,t-1);\n",
    "        utn = U(:,t+1);\n",
    "        slack = c * (sum(max(0, - ut.*utp)) + sum(max(0, - ut.*utn)));\n",
    "    else\n",
    "        utp = U(:,t-1);\n",
    "        slack = c * sum(max(0, - ut.*utp));\n",
    "    end\n",
    "    \n",
    "    J = least + reg + slack;    \n",
    "    if rho!= 0 \n",
    "        lagrange_grad = rho*(wt-ut+ lt/rho);\n",
    "    else\n",
    "        lagrange_grad = 0;\n",
    "    end\n",
    "    grad = (1/m)*(yt_error'*xt)' + lambda/m*wt + lagrange_grad;\n",
    "end"
   ],
   "outputs": [],
   "metadata": {}
  },
  {
   "cell_type": "code",
   "execution_count": 6,
   "source": [
    "function [wt, jt] = minimizeJ(X, Y, W, U, L, t, i,opts)\n",
    "    T = length(X);\n",
    "    xt = X{t};\n",
    "    yt = Y{t};\n",
    "    wt = W(:,t);\n",
    "    ut = U(:,t); \n",
    "    lt = L(:,t);\n",
    "    [m, d] = size(xt);\n",
    "\n",
    "    % momentum\n",
    "    mlr_V = ones(d,1);     \n",
    "    mlr_mu = 0.9;\n",
    "    mlr_alpha = opts.lr;\n",
    "    % accelerated gradient\n",
    "    nag_V = ones(d,1);\n",
    "    nag_mu = 0.9;\n",
    "    nag_alpha = opts.lr;\n",
    "    % adagrad\n",
    "    % rmsprop\n",
    "    rmsprop_gamma = 0.01;\n",
    "    rmsprop_r=wt;\n",
    "\n",
    "\n",
    "    for iter = 1:opts.max_iters\n",
    "%        fprintf('\\r iter: %d task: %d training iter: %d ',i, t, iter);\n",
    "    \n",
    "        if opts.optimizer == 3\n",
    "            nag_W = W + nag_mu * nag_V;\n",
    "            [cost, grad_W] = computeGradients(X, Y, nag_W, U, L, t,  opts.lambda, opts.rho, opts.c);\n",
    "        else\n",
    "            [cost, grad_W] = computeGradients(X, Y, W, U, L, t,  opts.lambda, opts.rho, opts.c);\n",
    "        end\n",
    "        \n",
    "        if opts.optimizer == 1 % GD\n",
    "            W(:, t) = W(:, t) - opts.lr * grad_W;\n",
    "        elseif opts.optimizer == 2 % momentum GD\n",
    "            mlr_V(:, t) = mlr_mu * mlr_V(:, t) - mlr_alpha * grad_W;\n",
    "            W(:, t) = W(:, t) + mlr_V(:, t);\n",
    "        elseif opts.optimizer == 3 % NAG\n",
    "            nag_V(:, t) = nag_mu * nag_V(:, t) - nag_alpha * grad_W;\n",
    "            W(:, t) = W(:, t) + nag_V(:, t);\n",
    "        elseif opts.optimizer == 4\n",
    "            adagrad_hist(iter,:) = grad_W;\n",
    "            adagrad_W = grad_W ./ sqrt(sum(adagrad_hist.^2))';\n",
    "            W(:, t) = W(:, t) - opts.lr * adagrad_W;\n",
    "        elseif opts.optimizer == 5 % rmsprop\n",
    "            %size(rmsprop_r), size(grad_W)\n",
    "            rmsprop_r = rmsprop_gamma*rmsprop_r + (1-rmsprop_gamma)*grad_W.^2;\n",
    "            W(:, t) = W(:, t) - opts.lr * grad_W./ sqrt(rmsprop_r);\n",
    "        end   \n",
    "            \n",
    "        J_history(iter) = cost;\n",
    "        \n",
    "        if iter >1 \n",
    "            prev_hist = J_history(iter-1);\n",
    "            curr_hist = J_history(iter);\n",
    "\n",
    "            if opts.tflag == 1\n",
    "                delta_hist(iter) = abs(prev_hist - curr_hist) ./ prev_hist;\n",
    "                if sum(delta_hist(end) > opts.tol) == 0\n",
    "                    break\n",
    "                end                                \n",
    "            elseif opts.tflag == 2\n",
    "                delta_hist(iter) = abs(prev_hist - curr_hist);                \n",
    "                if sum(delta_hist(end) > opts.tol) == 0\n",
    "                    break\n",
    "                end\n",
    "            else # 0 : not stop criteria\n",
    "                delta_hist(iter) = abs(prev_hist - curr_hist);\n",
    "            end\n",
    "        end\n",
    "    \n",
    "    end\n",
    "    \n",
    "    wt = W(:,t);\n",
    "    jt = J_history;\n",
    "    \n",
    "end"
   ],
   "outputs": [],
   "metadata": {}
  },
  {
   "cell_type": "code",
   "execution_count": 7,
   "source": [
    "function [W, J_hist, J_hist_all, primal_residual_val, primal, dual_residual_val, dual] = Least_SWMTL3(X, Y, opts)\n",
    "\n",
    "    % hyperparameters\n",
    "    opts = init_opts(opts) ;  \n",
    "\n",
    "    % data variables\n",
    "    T = length(X);\n",
    "    d = size(X{1},2);   \n",
    "    \n",
    "    if opts.scaling\n",
    "        %d = d + 1;\n",
    "        d = d;\n",
    "    end\n",
    "    \n",
    "    % output variables\n",
    "    if isfield(opts, 'W0')\n",
    "        W = opts.W0;\n",
    "    else\n",
    "        W = rand(d,T);     \n",
    "    end\n",
    "\n",
    "    % internal variables\n",
    "    U = W;\n",
    "    L = W;\n",
    "\n",
    "    \n",
    "    % data normalization\n",
    "    if opts.scaling\n",
    "        disp('scaling data')\n",
    "        for t=1:T \n",
    "            if opts.scaling == 1\n",
    "                [X{t}, mu_X(:,t), sigma_X(:,t)] = featureNormalize(X{t});\n",
    "                [Y{t}, mu_Y(:,t), sigma_Y(:,t)] = featureNormalize(Y{t});\n",
    "            elseif opts.scaling == 2\n",
    "                [X{t}, mu_X(:,t), sigma_X(:,t)] = featureNormalize2(X{t});\n",
    "                [Y{t}, mu_Y(:,t), sigma_Y(:,t)] = featureNormalize2(Y{t});\n",
    "            end\n",
    "        end\n",
    "    end\n",
    "    \n",
    "    %init history\n",
    "    disp('initializing hist')\n",
    "    for t=1:T\n",
    "        J_hist{t} =[];\n",
    "    end\n",
    "        \n",
    "    \n",
    "    i = 1; % the iteration counter\n",
    "    while i <= opts.max_iters \n",
    "\n",
    "        U_previous = U;\n",
    "        \n",
    "        J_hist_all(i) = 0;\n",
    "        \n",
    "        for t = 1:T        \n",
    "            [wt, jt]=minimizeJ(X, Y, W, U, L, t,i, opts);            \n",
    "            W(:, t) = wt;\n",
    "            J_hist{t} = vertcat([J_hist{t}, jt]);            \n",
    "            last_cost= J_hist{t}(end);\n",
    "            J_hist_all(i) = J_hist_all(i) + last_cost;\n",
    "            \n",
    "            fprintf('\\r iter: %d task: %d cost: %d' ,i, t, last_cost);\n",
    "        end\n",
    "        \n",
    "        for t = 1:T\n",
    "            U(:,t) = updateU(X, Y, W, U, L, t, opts.lambda, opts.rho, opts.c);                                \n",
    "        end\n",
    "\n",
    "\n",
    "        primal_residual = W - U ;\n",
    "        dual_residual = -opts.rho * (U - U_previous);\n",
    "        primal_residual_val{i} = primal_residual;\n",
    "        primal(i) = sqrt(sum(sum(primal_residual.^2)));\n",
    "        dual_residual_val{i} = dual_residual;\n",
    "        dual(i) = sqrt(sum(sum(dual_residual.^2)));\n",
    "            \n",
    "        % stop criteria\n",
    "        if i > 1 \n",
    "            prev_hist = J_hist_all(end-1);\n",
    "            curr_hist = J_hist_all(end);\n",
    "\n",
    "            if opts.tflag == 1\n",
    "                delta_hist = abs(prev_hist - curr_hist) ./ prev_hist;\n",
    "                if (delta_hist > opts.tol) == 0\n",
    "                    break\n",
    "                end                                \n",
    "            elseif opts.tflag == 2\n",
    "                delta_hist = abs(prev_hist - curr_hist);                \n",
    "                if (delta_hist > opts.tol) == 0\n",
    "                    break\n",
    "                end\n",
    "            else\n",
    "                delta_hist = abs(prev_hist - curr_hist);\n",
    "            end\n",
    "        end\n",
    "        \n",
    "        \n",
    "        L = L + opts.rho*(W-U);\n",
    "        i = i + 1;\n",
    "\n",
    "    end\n",
    "        \n",
    "    if opts.scaling == 1\n",
    "        W=[W./sigma_X.*sigma_Y];             \n",
    "    elseif opts.scaling == 2\n",
    "        ix_sigma = sigma_X > 10;\n",
    "        size(ix_sigma)\n",
    "        W(ix_sigma)=W(ix_sigma)./sigma_X(ix_sigma).*(sigma_Y.*ones(size(W)))(ix_sigma);              \n",
    "    end\n",
    "\n",
    "end"
   ],
   "outputs": [],
   "metadata": {}
  },
  {
   "cell_type": "code",
   "execution_count": 69,
   "source": [
    "!ls ../data/multilingual"
   ],
   "outputs": [
    {
     "output_type": "stream",
     "name": "stdout",
     "text": [
      "venezuela.mat\t\tvenezuela2014.mat\r\n",
      "\n"
     ]
    }
   ],
   "metadata": {
    "scrolled": false
   }
  },
  {
   "cell_type": "markdown",
   "source": [
    "# 1D dataset"
   ],
   "metadata": {}
  },
  {
   "cell_type": "code",
   "execution_count": 71,
   "source": [
    "clear;\n",
    "load ../data/multilingual/venezuela.mat\n",
    "X = Xs;\n",
    "T = length(X);\n",
    "whos"
   ],
   "outputs": [
    {
     "output_type": "stream",
     "name": "stdout",
     "text": [
      "Variables in the current scope:\r\n",
      "\r\n",
      "   Attr Name           Size                     Bytes  Class\r\n",
      "   ==== ====           ====                     =====  ===== \r\n",
      "        T              1x1                          8  double\r\n",
      "        X              1x3                   32108200  cell\r\n",
      "        Xs             1x3                   32108200  cell\r\n",
      "        Y          27375x1                     219000  double\r\n",
      "        keywords       1x1                      16167  struct\r\n",
      "        langs          1x3                         24  cell\r\n",
      "        locations      1x75                      2080  cell\r\n",
      "\r\n",
      "Total is 27461 elements using 64453679 bytes\r\n",
      "\r\n"
     ]
    }
   ],
   "metadata": {}
  },
  {
   "cell_type": "code",
   "execution_count": 72,
   "source": [
    "% clf ;\n",
    "hold on;\n",
    "    \n",
    "for t=1:T\n",
    "    plot(X{t}(:,1), Y{t} , '.' );\n",
    "    %text(mean(X{t}(:,1)), mean(Y{t}), num2str(t), 'fontsize', 14)\n",
    "end"
   ],
   "outputs": [
    {
     "output_type": "stream",
     "name": "stdout",
     "text": [
      "error: matrix cannot be indexed with {\r\n"
     ]
    },
    {
     "output_type": "display_data",
     "data": {
      "image/png": "[encoded data removed]",
      "text/plain": [
       "<IPython.core.display.Image object>"
      ]
     },
     "metadata": {}
    }
   ],
   "metadata": {}
  },
  {
   "cell_type": "markdown",
   "source": [
    "## normalize data"
   ],
   "metadata": {}
  },
  {
   "cell_type": "code",
   "execution_count": 234,
   "source": [
    "hold on;\n",
    "\n",
    "for t=1:T\n",
    "    % normalize data\n",
    "    [X_norm{t}, muv, sigmav] = featureNormalize(X{t});\n",
    "    mu{t} = muv';\n",
    "    sigma{t}= sigmav';\n",
    "    [Y_norm{t}, y_muv, y_sigmav] = featureNormalize(Y{t});\n",
    "    y_mu{t}=y_muv';\n",
    "    y_sigma{t}=y_sigmav';\n",
    "    plot(X_norm{t}(:,1), Y_norm{t} , '.' )\n",
    "    #text(mean(X_norm{t}(:,1)), mean(y_norm{t}), num2str(t), 'fontsize', 14);\n",
    "end"
   ],
   "outputs": [
    {
     "output_type": "display_data",
     "data": {
      "image/png": "[encoded data removed]",
      "text/plain": [
       "<IPython.core.display.Image object>"
      ]
     },
     "metadata": {}
    }
   ],
   "metadata": {
    "scrolled": false
   }
  },
  {
   "cell_type": "code",
   "execution_count": 274,
   "source": [
    "opts = struct('rho', 7, 'lambda', 10^-4, 'c', 10^-5, ...\n",
    "    'lr', 0.1, 'tol', 10^-5, 'scaling', 1, ...\n",
    "    'optimizer', 4, 'tflag', 0, 'max_iters', 50)\n",
    "    \n",
    "[w , obj_history, J_history_all ,primal_residual_val, primal, dual_residual_val, dual] = Least_SWMTL3(X, Y, opts);"
   ],
   "outputs": [
    {
     "output_type": "stream",
     "name": "stdout",
     "text": [
      "opts =\n",
      "\n",
      "  scalar structure containing the fields:\n",
      "\n",
      "    rho =  7\n",
      "    lambda =  0.00010000\n",
      "    c =  0.000010000\n",
      "    lr =  0.10000\n",
      "    tol =  0.000010000\n",
      "    scaling =  1\n",
      "    optimizer =  4\n",
      "    tflag = 0\n",
      "    max_iters =  50\n",
      "\n",
      "scaling data\n",
      "initializing hist\n",
      " iter: 50 task: 5 cost: 1.24376e-05"
     ]
    }
   ],
   "metadata": {
    "scrolled": false
   }
  },
  {
   "cell_type": "code",
   "execution_count": 270,
   "source": [
    "p_res = [];\n",
    "for i = 1:(size(primal_residual_val,2)-1)\n",
    "    p_res(i) = sum(sum((primal_residual_val{i+1} - primal_residual_val{i}).^2));\n",
    "end\n",
    "\n",
    "semilogy(p_res);\n",
    "title('Primal residual convergence');\n",
    "ylabel('||r^{k+1}-r^{k}||_2^2');\n",
    "xlabel('Iterations');"
   ],
   "outputs": [
    {
     "output_type": "display_data",
     "data": {
      "image/png": "[encoded data removed]",
      "text/plain": [
       "<IPython.core.display.Image object>"
      ]
     },
     "metadata": {}
    }
   ],
   "metadata": {}
  },
  {
   "cell_type": "code",
   "execution_count": 254,
   "source": [
    "semilogy(primal);"
   ],
   "outputs": [
    {
     "output_type": "display_data",
     "data": {
      "image/png": "[encoded data removed]",
      "text/plain": [
       "<IPython.core.display.Image object>"
      ]
     },
     "metadata": {}
    }
   ],
   "metadata": {}
  },
  {
   "cell_type": "code",
   "execution_count": 275,
   "source": [
    "r_res = [];\n",
    "for i = 1:(size(dual_residual_val,2)-1)\n",
    "    r_res(i) = sum(sum((dual_residual_val{i+1} - dual_residual_val{i}).^2));\n",
    "end\n",
    "\n",
    "semilogy(r_res);\n",
    "title('Dual residual convergence');\n",
    "ylabel('||s^{k+1}-s^k||_2^2');\n",
    "xlabel('Iterations');"
   ],
   "outputs": [
    {
     "output_type": "display_data",
     "data": {
      "image/png": "[encoded data removed]",
      "text/plain": [
       "<IPython.core.display.Image object>"
      ]
     },
     "metadata": {}
    }
   ],
   "metadata": {}
  },
  {
   "cell_type": "code",
   "execution_count": 268,
   "source": [
    "semilogy(dual);\n",
    "title('Dual residual convergence');\n",
    "ylabel('||s||_2');\n",
    "xlabel('Iterations');"
   ],
   "outputs": [
    {
     "output_type": "display_data",
     "data": {
      "image/png": "[encoded data removed]",
      "text/plain": [
       "<IPython.core.display.Image object>"
      ]
     },
     "metadata": {}
    }
   ],
   "metadata": {}
  },
  {
   "cell_type": "code",
   "execution_count": 260,
   "source": [
    "hold on;\n",
    "plot(J_history_all)\n",
    "title('Objective function convergence');\n",
    "ylabel('Objective value');\n",
    "xlabel('Iterations');"
   ],
   "outputs": [
    {
     "output_type": "display_data",
     "data": {
      "image/png": "[encoded data removed]",
      "text/plain": [
       "<IPython.core.display.Image object>"
      ]
     },
     "metadata": {}
    }
   ],
   "metadata": {}
  },
  {
   "cell_type": "code",
   "execution_count": null,
   "source": [],
   "outputs": [],
   "metadata": {}
  },
  {
   "cell_type": "markdown",
   "source": [
    "### Sensitivity Analysis - rho"
   ],
   "metadata": {}
  },
  {
   "cell_type": "code",
   "execution_count": 14,
   "source": [
    "j = 0;\n",
    "for i = [5*10^(-3) 10^(-2) 5*10^(-2) 0.1 0.5 1 5 10]\n",
    "    j = j + 1;\n",
    "    opts = struct('rho', i, 'lambda', 0.1, 'c', 0.001, ...\n",
    "    'lr', 0.01, 'tol', 10^-4, 'scaling', 1, ...\n",
    "    'optimizer', 4, 'tflag', 1, 'max_iters', 100);\n",
    "    \n",
    "    [w , obj_history, J_history_all ,primal_residual_val, dual_residual_val] = Least_SWMTL3(X, Y, opts);\n",
    "    N = size(J_history_all,2);\n",
    "    sensitivity_rho(j) = J_history_all(N);\n",
    "end"
   ],
   "outputs": [
    {
     "output_type": "stream",
     "name": "stdout",
     "text": [
      "scaling data\n",
      "initializing hist\n",
      " iter: 100 task: 20 cost: 0.000504946scaling data\n",
      "initializing hist\n",
      " iter: 100 task: 20 cost: 0.000458312scaling data\n",
      "initializing hist\n",
      " iter: 100 task: 20 cost: 0.000455607scaling data\n",
      "initializing hist\n",
      " iter: 17 task: 20 cost: 0.000455623scaling data\n",
      "initializing hist\n",
      " iter: 14 task: 20 cost: 0.00045565scaling data\n",
      "initializing hist\n",
      " iter: 19 task: 20 cost: 0.000455528scaling data\n",
      "initializing hist\n",
      " iter: 58 task: 20 cost: 0.000455749scaling data\n",
      "initializing hist\n",
      " iter: 100 task: 20 cost: 0.000456173"
     ]
    }
   ],
   "metadata": {}
  },
  {
   "cell_type": "code",
   "execution_count": 20,
   "source": [
    "x = [5*10^(-3) 10^(-2) 5*10^(-2) 0.1 0.5 1 5 10];\n",
    "\n",
    "bar(sensitivity_rho, 'b');"
   ],
   "outputs": [
    {
     "output_type": "display_data",
     "data": {
      "image/png": "[encoded data removed]",
      "text/plain": [
       "<IPython.core.display.Image object>"
      ]
     },
     "metadata": {}
    }
   ],
   "metadata": {}
  },
  {
   "cell_type": "markdown",
   "source": [
    "### Sensitivity Analysis - lambda"
   ],
   "metadata": {}
  },
  {
   "cell_type": "code",
   "execution_count": 16,
   "source": [
    "j = 0;\n",
    "sensitivity_lambda = [];\n",
    "for i = [10^-4 5*10^-4 10^(-3) 5*10^(-3) 10^(-2) 5*10^(-2) 0.1 0.5]\n",
    "    j = j + 1;\n",
    "    opts = struct('rho', 1, 'lambda', i, 'c', 0.001, ...\n",
    "    'lr', 0.01, 'tol', 10^-4, 'scaling', 1, ...\n",
    "    'optimizer', 4, 'tflag', 1, 'max_iters', 100);\n",
    "    \n",
    "    [w , obj_history, J_history_all ,primal_residual_val, dual_residual_val] = Least_SWMTL3(X, Y, opts);\n",
    "    N = size(J_history_all,2);\n",
    "    sensitivity_lambda(j) = J_history_all(N);\n",
    "end"
   ],
   "outputs": [
    {
     "output_type": "stream",
     "name": "stdout",
     "text": [
      "scaling data\n",
      "initializing hist\n",
      " iter: 21 task: 20 cost: 0.000360703scaling data\n",
      "initializing hist\n",
      " iter: 19 task: 20 cost: 0.000361196scaling data\n",
      "initializing hist\n",
      " iter: 20 task: 20 cost: 0.000361569scaling data\n",
      "initializing hist\n",
      " iter: 19 task: 20 cost: 0.00036539scaling data\n",
      "initializing hist\n",
      " iter: 20 task: 20 cost: 0.000370159scaling data\n",
      "initializing hist\n",
      " iter: 20 task: 20 cost: 0.000408165scaling data\n",
      "initializing hist\n",
      " iter: 21 task: 20 cost: 0.000455644scaling data\n",
      "initializing hist\n",
      " iter: 19 task: 20 cost: 0.000835327"
     ]
    }
   ],
   "metadata": {}
  },
  {
   "cell_type": "code",
   "execution_count": 21,
   "source": [
    "x = [10^-4 5*10^-4 10^(-3) 5*10^(-3) 10^(-2) 5*10^(-2) 0.1 0.5 1];\n",
    "\n",
    "bar(sensitivity_lambda, 'b');"
   ],
   "outputs": [
    {
     "output_type": "display_data",
     "data": {
      "image/png": "[encoded data removed]",
      "text/plain": [
       "<IPython.core.display.Image object>"
      ]
     },
     "metadata": {}
    }
   ],
   "metadata": {}
  },
  {
   "cell_type": "markdown",
   "source": [
    "### Sensitivity Analysis - c"
   ],
   "metadata": {}
  },
  {
   "cell_type": "code",
   "execution_count": 18,
   "source": [
    "j = 0;\n",
    "for i = [10^-5 5*10^(-5) 10^(-4) 5*10^(-4) 10^(-3) 5*10^(-3) 10^(-2) 5*10^-2]\n",
    "    j = j + 1;\n",
    "    opts = struct('rho', 1, 'lambda', 0.1, 'c', i, ...\n",
    "    'lr', 0.01, 'tol', 10^-4, 'scaling', 1, ...\n",
    "    'optimizer', 4, 'tflag', 1, 'max_iters', 100);\n",
    "    \n",
    "    [w , obj_history, J_history_all ,primal_residual_val, dual_residual_val] = Least_SWMTL3(X, Y, opts);\n",
    "    N = size(J_history_all,2);\n",
    "    sensitivity_c(j) = J_history_all(N);\n",
    "end"
   ],
   "outputs": [
    {
     "output_type": "stream",
     "name": "stdout",
     "text": [
      "scaling data\n",
      "initializing hist\n",
      " iter: 22 task: 20 cost: 9.87986e-05scaling data\n",
      "initializing hist\n",
      " iter: 20 task: 20 cost: 0.000113285scaling data\n",
      "initializing hist\n",
      " iter: 23 task: 20 cost: 0.000131309scaling data\n",
      "initializing hist\n",
      " iter: 21 task: 20 cost: 0.0002757scaling data\n",
      "initializing hist\n",
      " iter: 22 task: 20 cost: 0.000455582scaling data\n",
      "initializing hist\n",
      " iter: 100 task: 20 cost: 0.0018779scaling data\n",
      "initializing hist\n",
      " iter: 71 task: 20 cost: 0.00361274scaling data\n",
      "initializing hist\n",
      " iter: 21 task: 20 cost: 0.0159675"
     ]
    }
   ],
   "metadata": {}
  },
  {
   "cell_type": "code",
   "execution_count": 31,
   "source": [
    "x = [10^-5 5*10^(-5) 10^(-4) 5*10^(-4) 10^(-3) 5*10^(-3) 10^(-2) 5*10^-2];\n",
    "bar(sensitivity_c, 'b');"
   ],
   "outputs": [
    {
     "output_type": "display_data",
     "data": {
      "image/png": "[encoded data removed]",
      "text/plain": [
       "<IPython.core.display.Image object>"
      ]
     },
     "metadata": {}
    }
   ],
   "metadata": {}
  },
  {
   "cell_type": "code",
   "execution_count": 28,
   "source": [
    "hold on;\n",
    "\n",
    "for t=1:T\n",
    "    %semilogy(pr(3:end), 'DisplayName', ['L' num2str(t)])\n",
    "    plot(obj_history{t}, 'DisplayName', ['L' num2str(t)])\n",
    "    #plot(primal_residual_val{t}, 'DisplayName', ['L' num2str(t)])\n",
    "end\n",
    "\n",
    "%legend;\n",
    "% figure(1, 'position',[0,0,1000,500]);\n",
    "\n",
    "% subplot(1,2,1)\n",
    "% plot(pr)\n",
    "% subplot(1,2,2)\n",
    "% plot(dr)\n"
   ],
   "outputs": [
    {
     "output_type": "display_data",
     "data": {
      "image/png": "[encoded data removed]",
      "text/plain": [
       "<IPython.core.display.Image object>"
      ]
     },
     "metadata": {}
    }
   ],
   "metadata": {}
  },
  {
   "cell_type": "code",
   "execution_count": 88,
   "source": [
    "[w(1:5,1:3), cell2mat(W)(1:5,1:3)]"
   ],
   "outputs": [
    {
     "output_type": "stream",
     "name": "stdout",
     "text": [
      "error: w(_,3): but w has size 17x2\r\n"
     ]
    }
   ],
   "metadata": {}
  },
  {
   "cell_type": "code",
   "execution_count": 89,
   "source": [
    "% figure(1, 'position',[0,0,500,2500]);\n",
    "\n",
    "% for t=1:5\n",
    "%     subplot(T,1, t)\n",
    "%     scatter(X{t}(:,1), Y{t}, 'b' , 's')\n",
    "%     hold on\n",
    "%     m = size(X{t},1);\n",
    "%     %Y_hat{t} = X{t} * w(:, t);\n",
    "%     Y_hat{t} = X{t} * w_hat(:, t);\n",
    "%     %Y_hat{t} = [ones(m,1) X_norm{t}] * w(:, t);\n",
    "%     scatter(X{t}(:,1), Y_hat{t}, 'r')\n",
    "% end"
   ],
   "outputs": [],
   "metadata": {
    "scrolled": false
   }
  },
  {
   "cell_type": "code",
   "execution_count": 136,
   "source": [
    "addpath('../src/utils/');\n",
    "addpath('../src/models/');"
   ],
   "outputs": [],
   "metadata": {}
  },
  {
   "cell_type": "code",
   "execution_count": 137,
   "source": [
    "train_size=0.6\n",
    "random_state=7\n",
    "[X_train, Y_train, X_test, Y_test] = datasplit(X, Y, train_size, random_state);"
   ],
   "outputs": [
    {
     "output_type": "stream",
     "name": "stdout",
     "text": [
      "train_size =  0.60000\n",
      "random_state =  7\n"
     ]
    }
   ],
   "metadata": {}
  },
  {
   "cell_type": "code",
   "execution_count": 161,
   "source": [
    "% scaling =  1\n",
    "%     tol =  0.0010000\n",
    "%     lr =  0.010000\n",
    "%     optimizer =  4\n",
    "%     max_iters =  100\n",
    "%     lambda =  0.00056234\n",
    "%     rho =  0.10000\n",
    "%     c =  0.000010000\n",
    "    \n",
    "opts = struct('rho', 1, 'lambda', 0.1, 'c', 0.000010000, ...\n",
    "    'lr', 0.1, 'tol', 0.01, 'scaling', 2, ...\n",
    "    'optimizer',4, 'tflag', 1, 'max_iters', 100)\n",
    "    \n",
    "[w , obj_history] = Least_SWMTL3(X, Y, opts);\n",
    "\n"
   ],
   "outputs": [
    {
     "output_type": "stream",
     "name": "stdout",
     "text": [
      "opts =\n",
      "\n",
      "  scalar structure containing the fields:\n",
      "\n",
      "    rho =  1\n",
      "    lambda =  0.10000\n",
      "    c =  0.000010000\n",
      "    lr =  0.10000\n",
      "    tol =  0.010000\n",
      "    scaling =  2\n",
      "    optimizer =  4\n",
      "    tflag =  1\n",
      "    max_iters =  100\n",
      "\n",
      "scaling data\n",
      "initializing hist\n",
      " iter: 2 task: 5 cost: 28.9343ans =\n",
      "\n",
      "   617     5\n",
      "\n"
     ]
    }
   ],
   "metadata": {}
  },
  {
   "cell_type": "code",
   "execution_count": 162,
   "source": [
    "[w(1:10,1:2), cell2mat(W)(1:10,1:2)]"
   ],
   "outputs": [
    {
     "output_type": "stream",
     "name": "stdout",
     "text": [
      "error: 'W' undefined near line 1 column 24\r\n"
     ]
    }
   ],
   "metadata": {}
  },
  {
   "cell_type": "code",
   "execution_count": 163,
   "source": [
    "\n",
    "hold on;\n",
    "\n",
    "for t=1:T\n",
    "    %semilogy(pr(3:end), 'DisplayName', ['L' num2str(t)])\n",
    "    plot(obj_history{t}, 'DisplayName', ['L' num2str(t)])\n",
    "    %break\n",
    "end\n",
    "\n",
    "xlabel('Number of iterations');\n",
    "ylabel('Cost J');"
   ],
   "outputs": [
    {
     "output_type": "display_data",
     "data": {
      "image/png": "[encoded data removed]",
      "text/plain": [
       "<IPython.core.display.Image object>"
      ]
     },
     "metadata": {}
    }
   ],
   "metadata": {}
  },
  {
   "cell_type": "code",
   "execution_count": 164,
   "source": [
    "[MSE, MSLE, MAE, EV, R2] = mtreg_test(w,X_test,Y_test, opts)"
   ],
   "outputs": [
    {
     "output_type": "stream",
     "name": "stdout",
     "text": [
      "MSE =  75.096\r\n",
      "MSLE =  1.1382\r\n",
      "MAE =  6.8826\r\n",
      "EV = -0.063869\r\n",
      "R2 = -0.30909\r\n"
     ]
    }
   ],
   "metadata": {}
  },
  {
   "cell_type": "code",
   "execution_count": 96,
   "source": [
    "w"
   ],
   "outputs": [
    {
     "output_type": "stream",
     "name": "stdout",
     "text": [
      "w =\r\n",
      "\r\n",
      "   0.843296   0.563774\r\n",
      "   0.498820   0.332715\r\n",
      "   0.678104  -0.182705\r\n",
      "   0.676817   0.502267\r\n",
      "   0.070158   0.250005\r\n",
      "   0.450466   0.597702\r\n",
      "  -0.015453   0.575951\r\n",
      "   0.175420   0.689130\r\n",
      "   0.491045   0.089320\r\n",
      "  -0.018652   1.216541\r\n",
      "   0.144685   0.651978\r\n",
      "  -0.016998   0.975693\r\n",
      "   0.687066   1.134800\r\n",
      "   0.423318   0.157998\r\n",
      "   0.633235   0.225588\r\n",
      "   0.527245   0.900257\r\n",
      "   0.434308   0.017885\r\n",
      "\r\n"
     ]
    }
   ],
   "metadata": {}
  },
  {
   "cell_type": "code",
   "execution_count": null,
   "source": [],
   "outputs": [],
   "metadata": {}
  }
 ],
 "metadata": {
  "kernelspec": {
   "display_name": "Octave",
   "language": "octave",
   "name": "octave"
  },
  "language_info": {
   "file_extension": ".m",
   "help_links": [
    {
     "text": "GNU Octave",
     "url": "https://www.gnu.org/software/octave/support.html"
    },
    {
     "text": "Octave Kernel",
     "url": "https://github.com/Calysto/octave_kernel"
    },
    {
     "text": "MetaKernel Magics",
     "url": "https://metakernel.readthedocs.io/en/latest/source/README.html"
    }
   ],
   "mimetype": "text/x-octave",
   "name": "octave",
   "version": "5.2.0"
  }
 },
 "nbformat": 4,
 "nbformat_minor": 4
}