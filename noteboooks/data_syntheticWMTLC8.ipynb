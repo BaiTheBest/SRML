{
 "cells": [
  {
   "cell_type": "code",
   "execution_count": 130,
   "metadata": {},
   "outputs": [],
   "source": [
    "function [h] = sigmoid(z)\n",
    "    h = 1./(1+ e.^-z);\n",
    "end"
   ]
  },
  {
   "cell_type": "code",
   "execution_count": 131,
   "metadata": {},
   "outputs": [],
   "source": [
    "function [X, Y, n] = syntheticWMTLC(t, m, d, p, s, alpha, alpha_w, polarity_noise,p_sparse, fpath)\n",
    "%     d = 1 % dimensionality\n",
    "%     m = 100 % instances per task\n",
    "%     t = 5 % number of tasks\n",
    "    \n",
    "    n = 0 % total number of instances (calculated )\n",
    "    %alpha=1000 % max magnitude for tasks' features\n",
    "    %alpha_w=100 % magnitude for the weightss\n",
    "    \n",
    "    % polarity for the features\n",
    "    if p == 1 % enforce\n",
    "        polarity = randn(d, 1);\n",
    "        polarity = sign(polarity)\n",
    "        pfunc = @(W) abs(W) .* polarity;\n",
    "    else % random\n",
    "        pfunc = @(W) (W); \n",
    "    endif\n",
    "    \n",
    "    % magnitude\n",
    "    if s == 1 \n",
    "        % integers features\n",
    "        magnitudeFunc = @() randi(alpha) ;\n",
    "        xgen = @() randi([-5,5], m, d); \n",
    "        dataset_type = 'sparse'\n",
    "    else\n",
    "        % real features\n",
    "        magnitudeFunc = @() rand() * alpha ;\n",
    "        xgen = @() randn(m, d) * alpha ; \n",
    "        dataset_type = 'continuous'\n",
    "    endif\n",
    "    \n",
    "    % data generation\n",
    "    for i=1:t\n",
    "        X{i} = xgen() ; #+ magnitudeFunc();\n",
    "        \n",
    "        if p_sparse > 0\n",
    "            X{i}(rand(size(X{i}))> 1-p_sparse) = 0;            \n",
    "            %X{i} = sparse(X{i});\n",
    "        end\n",
    "        \n",
    "        \n",
    "        % weight noise\n",
    "        w_polarity_noise = rand(d,1); \n",
    "        w_polarity_noise(w_polarity_noise > polarity_noise) = 1;\n",
    "        w_polarity_noise(w_polarity_noise <= polarity_noise) = -1;\n",
    "        W{i} = pfunc(randn(d,1)*alpha_w) .* w_polarity_noise;       \n",
    "        \n",
    "        if p_sparse > 0\n",
    "            W{i}(rand(d,1)> 1-p_sparse) = 0;    \n",
    "            %W{i} = sparse(W{i});\n",
    "        end\n",
    "                    \n",
    "        noise{i} = randn(m, 1)*0.1;\n",
    "        Y{i} = (sigmoid(X{i}*W{i} + noise{i}) > 0.5)*1;\n",
    "        n = n + m;\n",
    "    end\n",
    "    \n",
    "    \n",
    "    % save data\n",
    "    num_tasks = t;\n",
    "    num_features = d;\n",
    "    num_instances = n;\n",
    "    \n",
    "    save(\n",
    "        '-V7', \n",
    "        fpath, \n",
    "        'X', \n",
    "        'Y',\n",
    "        'W',\n",
    "        'noise',\n",
    "        'num_tasks', \n",
    "        'num_features',\n",
    "        'num_instances',\n",
    "        'dataset_type'        \n",
    "    );\n",
    "end"
   ]
  },
  {
   "cell_type": "code",
   "execution_count": 132,
   "metadata": {},
   "outputs": [
    {
     "name": "stdout",
     "output_type": "stream",
     "text": [
      "ans =\r\n",
      "\r\n",
      "   0.86202\r\n",
      "   0.70648\r\n",
      "   0.51201\r\n",
      "   0.25234\r\n",
      "   0.59989\r\n",
      "\r\n"
     ]
    }
   ],
   "source": [
    "rand(5,1)"
   ]
  },
  {
   "cell_type": "code",
   "execution_count": 133,
   "metadata": {},
   "outputs": [
    {
     "name": "stdout",
     "output_type": "stream",
     "text": [
      "alpha =  1\n",
      "alpha_w =  0.90000\n",
      "polarity_noise =  0.050000\n",
      "fpath = ../data/syntheticWMTLC8t5m100d25p1s0sp0.mat\n",
      "n = 0\n",
      "polarity =\n",
      "\n",
      "   1\n",
      "  -1\n",
      "   1\n",
      "   1\n",
      "   1\n",
      "   1\n",
      "  -1\n",
      "   1\n",
      "  -1\n",
      "   1\n",
      "  -1\n",
      "  -1\n",
      "   1\n",
      "   1\n",
      "   1\n",
      "  -1\n",
      "   1\n",
      "   1\n",
      "   1\n",
      "   1\n",
      "   1\n",
      "   1\n",
      "  -1\n",
      "   1\n",
      "  -1\n",
      "\n",
      "dataset_type = continuous\n"
     ]
    }
   ],
   "source": [
    "%t=5; m=200; d=1; p=1; s=0;\n",
    "%t=5; m=100; d=1; p=0; s=1;\n",
    "%t=5; m=100; d=1; p=0; s=0; alpha=10, alpha_w=10;\n",
    "%t=20; m=100; d=25; p=0; s=0;\n",
    "t=5; m=100; d=25; p=1; s=0; alpha=1, alpha_w=0.9, polarity_noise=0.05, p_sparse=0;\n",
    "fpath = '../data/syntheticWMTLC8';\n",
    "fpath = [fpath 't' num2str(t) ];\n",
    "fpath = [fpath 'm' num2str(m) ];\n",
    "fpath = [fpath 'd' num2str(d) ];\n",
    "fpath = [fpath 'p' num2str(p) ];\n",
    "fpath = [fpath 's' num2str(s) ];\n",
    "fpath = [fpath 'sp' num2str(int32(p_sparse*100))];\n",
    "fpath = [fpath '.mat' ]\n",
    "[X, Y] = syntheticWMTLC(t, m, d, p, s, alpha, alpha_w,polarity_noise, p_sparse, fpath);"
   ]
  },
  {
   "cell_type": "code",
   "execution_count": 134,
   "metadata": {
    "scrolled": true
   },
   "outputs": [
    {
     "name": "stdout",
     "output_type": "stream",
     "text": [
      "T =  5\n",
      "Variables in the current scope:\n",
      "\n",
      "   Attr Name               Size                     Bytes  Class\n",
      "   ==== ====               ====                     =====  ===== \n",
      "        T                  1x1                          8  double\n",
      "        W                  1x5                       1000  cell\n",
      "        X                  1x5                     100000  cell\n",
      "        Y                  1x5                       4000  cell\n",
      "        dataset_type       1x10                        10  char\n",
      "        noise              1x5                       4000  cell\n",
      "        num_features       1x1                          8  double\n",
      "        num_instances      1x1                          8  double\n",
      "        num_tasks          1x1                          8  double\n",
      "\n",
      "Total is 34 elements using 109042 bytes\n",
      "\n"
     ]
    }
   ],
   "source": [
    "clear;\n",
    "load ../data/syntheticWMTLC8t5m100d25p1s0sp0.mat\n",
    "T=num_tasks\n",
    "whos"
   ]
  },
  {
   "cell_type": "code",
   "execution_count": 135,
   "metadata": {},
   "outputs": [
    {
     "name": "stdout",
     "output_type": "stream",
     "text": [
      "w =\r\n",
      "\r\n",
      "   1.202791   0.564346   0.535385   0.859698   1.563157\r\n",
      "  -1.248381  -0.679736  -0.666029  -1.256291  -1.654260\r\n",
      "   0.927009   0.988538   0.949663   0.686622   0.394112\r\n",
      "   1.463493   0.757856   0.132760  -0.363225   1.061457\r\n",
      "   1.672706   1.132724   0.412346   0.099855   0.483756\r\n",
      "   0.434999   1.273109   0.478112   1.340905   0.225587\r\n",
      "  -0.064449  -0.822250  -1.453570  -0.355060  -1.011096\r\n",
      "   0.703715   1.170957   0.487448   0.928083   1.176019\r\n",
      "  -1.936282  -1.085387  -0.015715  -1.211171  -1.173036\r\n",
      "   1.789036   1.116963   1.833482   2.342120   0.516279\r\n",
      "  -0.527350   0.924965  -0.939164  -0.659861  -1.161627\r\n",
      "  -0.845719  -0.854097  -0.399141  -0.150133  -0.875490\r\n",
      "   0.336926   0.944181   0.979832   1.177905   0.682746\r\n",
      "   0.790141   0.725330   1.153247   0.815458   1.997258\r\n",
      "   0.066165   0.361040   1.649830  -1.061982   0.324976\r\n",
      "  -0.577302  -0.553301   0.526262  -1.087051  -0.034932\r\n",
      "   2.233018   0.059924   1.225646  -0.158287   1.811869\r\n",
      "   2.061013   0.343112   0.469440   0.859514   0.786933\r\n",
      "   0.778491   0.284948   0.090039   0.532079   1.266832\r\n",
      "   0.396496   0.736310   0.237928   1.360058   1.500305\r\n",
      "   0.362032   0.724660  -1.460159   0.990246   0.591931\r\n",
      "   0.169749   0.571877   0.524015   1.384302   1.268958\r\n",
      "  -0.046530  -0.729545  -1.524553  -0.811009  -1.376720\r\n",
      "   0.199818   0.101742   0.378120   1.112236   0.319269\r\n",
      "  -0.504407  -1.146815  -0.890656  -0.911066  -0.633119\r\n",
      "\r\n"
     ]
    }
   ],
   "source": [
    "w = cell2mat(W)"
   ]
  },
  {
   "cell_type": "code",
   "execution_count": 136,
   "metadata": {},
   "outputs": [],
   "source": [
    "\n",
    "for i=1:T\n",
    "    labelsdist(i,:) = histc(Y{i}, unique(Y{i}));\n",
    "end\n",
    "\n",
    "%labelsdist"
   ]
  },
  {
   "cell_type": "code",
   "execution_count": 137,
   "metadata": {},
   "outputs": [
    {
     "data": {
      "image/png": "[encoded data removed]",
      "text/plain": [
       "<IPython.core.display.Image object>"
      ]
     },
     "metadata": {},
     "output_type": "display_data"
    }
   ],
   "source": [
    "%cmap = colormap ();\n",
    "%colormap('cool');\n",
    "cmap =colormap('cool');\n",
    "cmap(32, :) = [1 1 1];\n",
    "cmap(33, :) = [1 1 1];\n",
    "%colormap(cmap)\n",
    "%cmap\n",
    "colormap(cmap);\n",
    "ws = sign(w);\n",
    "imagesc (ws);\n",
    "colorbar ();\n",
    "#imshow(W)"
   ]
  },
  {
   "cell_type": "code",
   "execution_count": 138,
   "metadata": {},
   "outputs": [
    {
     "data": {
      "image/png": "[encoded data removed]",
      "text/plain": [
       "<IPython.core.display.Image object>"
      ]
     },
     "metadata": {},
     "output_type": "display_data"
    }
   ],
   "source": [
    "figure(1, 'position',[0,0,1500,300]);\n",
    "    \n",
    "for i=1:T\n",
    "    subplot(1, T, i)\n",
    "    ix_pos = Y{i} == 1;\n",
    "    plot(X{i}(ix_pos,1), X{i}(ix_pos,2), '.', 'markersize', 10, 'color', 'b')\n",
    "    title(['task' num2str(i)])\n",
    "    xlabel('X1')\n",
    "    ylabel('X2')  \n",
    "    hold on;\n",
    "    ix_pos = Y{i} == 0;\n",
    "    plot(X{i}(ix_pos,1), X{i}(ix_pos,2), '.', 'markersize', 10, 'color', 'r')\n",
    "    xlabel('X1')\n",
    "    ylabel('X2')  \n",
    "    text(mean(X{i}(:,1)), mean(X{i}(:,2)), num2str(i), 'fontsize', 14)\n",
    "end"
   ]
  },
  {
   "cell_type": "code",
   "execution_count": null,
   "metadata": {},
   "outputs": [],
   "source": []
  },
  {
   "cell_type": "code",
   "execution_count": null,
   "metadata": {},
   "outputs": [],
   "source": []
  }
 ],
 "metadata": {
  "kernelspec": {
   "display_name": "Octave",
   "language": "octave",
   "name": "octave"
  },
  "language_info": {
   "file_extension": ".m",
   "help_links": [
    {
     "text": "GNU Octave",
     "url": "https://www.gnu.org/software/octave/support.html"
    },
    {
     "text": "Octave Kernel",
     "url": "https://github.com/Calysto/octave_kernel"
    },
    {
     "text": "MetaKernel Magics",
     "url": "https://metakernel.readthedocs.io/en/latest/source/README.html"
    }
   ],
   "mimetype": "text/x-octave",
   "name": "octave",
   "version": "5.2.0"
  }
 },
 "nbformat": 4,
 "nbformat_minor": 4
}
